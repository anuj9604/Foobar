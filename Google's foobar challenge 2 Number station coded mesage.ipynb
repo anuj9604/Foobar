{
 "cells": [
  {
   "cell_type": "code",
   "execution_count": null,
   "metadata": {},
   "outputs": [],
   "source": [
    "'''Bunny HQ has secretly taken control of two of the galaxy's more obscure numbers stations, and will use them to broadcast lists of numbers. They've given you a numerical key, and their messages will be encrypted within the first sequence of numbers that adds up to that key within any given list of numbers. \n",
    "\n",
    "Given a non-empty list of positive integers l and a target positive integer t, write a function solution(l, t) which verifies if there is at least one consecutive sequence of positive integers within the list l (i.e. a contiguous sub-list) that can be summed up to the given target positive integer t (the key) and returns the lexicographically smallest list containing the smallest start and end indexes where this sequence can be found, or returns the array [-1, -1] in the case that there is no such sequence (to throw off Lambda's spies, not all number broadcasts will contain a coded message).'''"
   ]
  },
  {
   "cell_type": "code",
   "execution_count": null,
   "metadata": {},
   "outputs": [],
   "source": [
    "def solution(l, t):\n",
    "    def list_summer(l,t,i,j):\n",
    "        while sum(l[i:j])<t:\n",
    "            if j>len(l):\n",
    "                break\n",
    "            j+=1\n",
    "        return sum(l[i:j]), j\n",
    "    if len(l)==1:\n",
    "        if l[0]==t:\n",
    "            return [0, 0]\n",
    "        else:\n",
    "            return [-1, -1]\n",
    "    elif sum(l)<t:\n",
    "        return [-1, -1]\n",
    "    else:\n",
    "        i,j=0,2\n",
    "        buff_sum,f= list_summer(l,t,i,j)\n",
    "        while i<len(l):    \n",
    "            if buff_sum==t:\n",
    "                return [i, f-1]\n",
    "            else:\n",
    "                i,j=i+1,j+1\n",
    "                buff_sum, f=list_summer(l,t,i,j)\n",
    "        return [-1, -1]"
   ]
  },
  {
   "cell_type": "code",
   "execution_count": null,
   "metadata": {},
   "outputs": [],
   "source": [
    "testy=solution([0,16,0,0], 16)\n",
    "testy"
   ]
  }
 ],
 "metadata": {
  "kernelspec": {
   "display_name": "Python 3",
   "language": "python",
   "name": "python3"
  },
  "language_info": {
   "codemirror_mode": {
    "name": "ipython",
    "version": 3
   },
   "file_extension": ".py",
   "mimetype": "text/x-python",
   "name": "python",
   "nbconvert_exporter": "python",
   "pygments_lexer": "ipython3",
   "version": "3.8.5"
  }
 },
 "nbformat": 4,
 "nbformat_minor": 4
}
