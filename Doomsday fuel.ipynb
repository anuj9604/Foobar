{
 "cells": [
  {
   "cell_type": "code",
   "execution_count": null,
   "metadata": {},
   "outputs": [],
   "source": [
    "def solution(m):\n",
    "    H=len(m)\n",
    "    W=len(m[0])\n",
    "    mat=list(m)\n",
    "    for i,elem in enumerate(mat):\n",
    "        elem[i]=0\n",
    "    sums=[sum(i) for i in mat]\n",
    "    terms=[i for i,item in enumerate(sums) if item==0]\n",
    "    not_terms=list((set(range(H)) - set(terms)))\n",
    "    L=len(not_terms)\n",
    "    \n",
    "    for i in range(0,L-1):\n",
    "        indB=not_terms[L-i-1]\n",
    "        for j in range(0,L-1):\n",
    "            indA=not_terms[j]        \n",
    "            mat[indA]=fuse(mat[indA],indA,mat[indB],indB)\n",
    "    output=[]\n",
    "    for i in terms:\n",
    "        output.append(mat[0][i])\n",
    "    tot=sum(output)\n",
    "    output.append(tot)\n",
    "    if tot == 0:\n",
    "        output=[1 for i in terms]\n",
    "        output.append(len(terms))\n",
    "    return output\n",
    "\n",
    "def fuse(v1,i1,v2,i2):\n",
    "    lenV=len(v1)\n",
    "    indices=(set(range(lenV))-{i1,i2})\n",
    "    sum2=sum(v2)\n",
    "    out = [0 for i in v1]\n",
    "    for i in indices:\n",
    "        out[i]= sum2*v1[i]+v1[i2]*v2[i]\n",
    "    gc=gcd_list(out)\n",
    "    output = [int( i / gc ) for i in out ]\n",
    "    return output\n",
    "    \n",
    "\n",
    "def gcd (a,b):\n",
    "    if (b == 0):\n",
    "        return a\n",
    "    else:\n",
    "        return gcd (b, a % b)\n",
    "         \n",
    "def gcd_list(lst):\n",
    "    L=len(lst)\n",
    "    out=0\n",
    "    for i in range(0,L):\n",
    "        out=gcd(out,lst[i])\n",
    "    return out"
   ]
  }
 ],
 "metadata": {
  "kernelspec": {
   "display_name": "Python 3",
   "language": "python",
   "name": "python3"
  },
  "language_info": {
   "codemirror_mode": {
    "name": "ipython",
    "version": 3
   },
   "file_extension": ".py",
   "mimetype": "text/x-python",
   "name": "python",
   "nbconvert_exporter": "python",
   "pygments_lexer": "ipython3",
   "version": "3.8.5"
  }
 },
 "nbformat": 4,
 "nbformat_minor": 4
}
