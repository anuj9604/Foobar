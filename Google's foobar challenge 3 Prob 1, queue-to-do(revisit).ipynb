{
 "cells": [
  {
   "cell_type": "code",
   "execution_count": null,
   "metadata": {},
   "outputs": [],
   "source": [
    "def solution(start, length):\n",
    "\n",
    "    def bulk_xor(a, b):\n",
    "        a-=1\n",
    "        xor_till_a = [a, 1, a+1 , 0][a % 4] #check why xor of all elements from 1 till n is this list??\n",
    "        xor_till_b = [b, 1, b+1 , 0][b % 4] \n",
    "        return xor_till_b ^ xor_till_a\n",
    "\n",
    "    checksum = 0\n",
    "    for i in range(length):\n",
    "        checksum ^= bulk_xor(start, start + length - i - 1)\n",
    "        start += length\n",
    "\n",
    "    return checksum"
   ]
  },
  {
   "cell_type": "code",
   "execution_count": null,
   "metadata": {},
   "outputs": [],
   "source": [
    "# My slower verion of it, normal xor operation\n",
    "def solution(start, length):\n",
    "    buff_start= start\n",
    "    checksum=0\n",
    "    i=0\n",
    "    for __ in range(length):\n",
    "        for _ in range(buff_start, buff_start+length-i):\n",
    "            checksum= checksum ^ _\n",
    "        i+=1\n",
    "        buff_start=buff_start+length\n",
    "    return checksum"
   ]
  }
 ],
 "metadata": {
  "kernelspec": {
   "display_name": "Python 3",
   "language": "python",
   "name": "python3"
  },
  "language_info": {
   "codemirror_mode": {
    "name": "ipython",
    "version": 3
   },
   "file_extension": ".py",
   "mimetype": "text/x-python",
   "name": "python",
   "nbconvert_exporter": "python",
   "pygments_lexer": "ipython3",
   "version": "3.8.5"
  }
 },
 "nbformat": 4,
 "nbformat_minor": 4
}
